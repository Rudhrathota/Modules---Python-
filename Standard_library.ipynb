{
  "metadata": {
    "kernelspec": {
      "name": "python",
      "display_name": "Python (Pyodide)",
      "language": "python"
    },
    "language_info": {
      "codemirror_mode": {
        "name": "python",
        "version": 3
      },
      "file_extension": ".py",
      "mimetype": "text/x-python",
      "name": "python",
      "nbconvert_exporter": "python",
      "pygments_lexer": "ipython3",
      "version": "3.8"
    }
  },
  "nbformat_minor": 4,
  "nbformat": 4,
  "cells": [
    {
      "cell_type": "markdown",
      "source": "##### Standard Library Overview\nPython's Standard Library is a vast collection of modules and packages that come bundled with Python, providing a wide range of functionalities out of the box. Here's an overview of some of the most commonly used modules and packages in the Python Standard Library.",
      "metadata": {}
    },
    {
      "cell_type": "code",
      "source": "import array\narr=array.array('i',[1,2,3,4])\nprint(arr)",
      "metadata": {
        "trusted": true
      },
      "outputs": [],
      "execution_count": null
    },
    {
      "cell_type": "code",
      "source": "import math\nprint(math.sqrt(16))\nprint(math.pi)",
      "metadata": {
        "trusted": true
      },
      "outputs": [],
      "execution_count": null
    },
    {
      "cell_type": "code",
      "source": "## random \n\nimport random\nprint(random.randint(1,10))\nprint(random.choice(['apple','banana','cherry']))",
      "metadata": {
        "trusted": true
      },
      "outputs": [],
      "execution_count": null
    },
    {
      "cell_type": "code",
      "source": "### File And Directory Access\n\nimport os\nprint(os.getcwd())",
      "metadata": {
        "trusted": true
      },
      "outputs": [],
      "execution_count": null
    },
    {
      "cell_type": "code",
      "source": "os.mkdir('test_dir')",
      "metadata": {
        "trusted": true
      },
      "outputs": [],
      "execution_count": null
    },
    {
      "cell_type": "code",
      "source": "## High level operations on files and collection of files\nimport shutil\nshutil.copyfile('source.txt','destination.txt')",
      "metadata": {
        "trusted": true
      },
      "outputs": [],
      "execution_count": null
    },
    {
      "cell_type": "code",
      "source": "## Data Serialization\nimport json\ndata={'name':'rudhra','age':25}\n\njson_str=json.dumps(data)\nprint(json_str)\nprint(type(json_str))\n\nparsed_data=json.loads(json_str)\nprint(parsed_data)\nprint(type(parsed_data))\n",
      "metadata": {
        "trusted": true
      },
      "outputs": [],
      "execution_count": null
    },
    {
      "cell_type": "code",
      "source": "## datetime\nfrom datetime import datetime,timedelta\n\nnow=datetime.now()\nprint(now)\n\nyesterday=now-timedelta(days=1)\n\nprint(yesterday)",
      "metadata": {
        "trusted": true
      },
      "outputs": [],
      "execution_count": null
    },
    {
      "cell_type": "code",
      "source": "## time\nimport time\nprint(time.time())\ntime.sleep(2)\nprint(time.time())",
      "metadata": {
        "trusted": true
      },
      "outputs": [],
      "execution_count": null
    },
    {
      "cell_type": "code",
      "source": "## Regular expresiion\nimport re\n\npattern=r'\\d+'\ntext='There are 123 apples 456'\nmatch=re.search(pattern,text)\nprint(match.group())",
      "metadata": {
        "trusted": true
      },
      "outputs": [],
      "execution_count": null
    },
    {
      "cell_type": "markdown",
      "source": "#### Conclusion\nPython's Standard Library is extensive and provides tools for almost any task you can think of, from file handling to web services, from data serialization to concurrent execution. Familiarizing yourself with the modules and packages available in the Standard Library can significantly enhance your ability to write efficient and effective Python programs.",
      "metadata": {}
    },
    {
      "cell_type": "code",
      "source": "",
      "metadata": {
        "trusted": true
      },
      "outputs": [],
      "execution_count": null
    }
  ]
}